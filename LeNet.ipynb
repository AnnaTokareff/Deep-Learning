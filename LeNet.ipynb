{
  "cells": [
    {
      "cell_type": "markdown",
      "metadata": {
        "id": "HVQuq23Q9Hyo"
      },
      "source": [
        "# Training our first Convolutional Neural Network\n",
        "\n",
        "With this notebook we are going to build and train our first Convolutional Neural Network (CNN). In particular, we will borrow the architecture proposed as [LeNet](https://ieeexplore.ieee.org/document/726791)."
      ]
    },
    {
      "cell_type": "markdown",
      "metadata": {
        "id": "accaY1dy-cs-"
      },
      "source": [
        "\n",
        "<img src=\"https://drive.google.com/uc?export=view&id=1BimodSCOzNtpy76yE4QjJ5aCtsEzNNfX\" width=\"900\"></br></br>"
      ]
    },
    {
      "cell_type": "markdown",
      "metadata": {
        "id": "VtZwK8aDBxmK"
      },
      "source": [
        "We start, as usual, by importing the necessary libraries."
      ]
    },
    {
      "cell_type": "code",
      "execution_count": 1,
      "metadata": {
        "id": "sIZU13zsxAM0",
        "colab": {
          "base_uri": "https://localhost:8080/"
        },
        "outputId": "1cdcd06f-13cb-400f-887c-cb6ea8f61aed"
      },
      "outputs": [
        {
          "output_type": "stream",
          "name": "stdout",
          "text": [
            "\u001b[2K     \u001b[90m━━━━━━━━━━━━━━━━━━━━━━━━━━━━━━━━━━━━━━━━\u001b[0m \u001b[32m2.1/2.1 MB\u001b[0m \u001b[31m7.5 MB/s\u001b[0m eta \u001b[36m0:00:00\u001b[0m\n",
            "\u001b[2K     \u001b[90m━━━━━━━━━━━━━━━━━━━━━━━━━━━━━━━━━━━━━━\u001b[0m \u001b[32m190.0/190.0 kB\u001b[0m \u001b[31m11.3 MB/s\u001b[0m eta \u001b[36m0:00:00\u001b[0m\n",
            "\u001b[2K     \u001b[90m━━━━━━━━━━━━━━━━━━━━━━━━━━━━━━━━━━━━━━\u001b[0m \u001b[32m224.8/224.8 kB\u001b[0m \u001b[31m12.9 MB/s\u001b[0m eta \u001b[36m0:00:00\u001b[0m\n",
            "\u001b[?25h  Preparing metadata (setup.py) ... \u001b[?25l\u001b[?25hdone\n",
            "\u001b[2K     \u001b[90m━━━━━━━━━━━━━━━━━━━━━━━━━━━━━━━━━━━━━━━━\u001b[0m \u001b[32m62.7/62.7 kB\u001b[0m \u001b[31m4.4 MB/s\u001b[0m eta \u001b[36m0:00:00\u001b[0m\n",
            "\u001b[?25h  Building wheel for pathtools (setup.py) ... \u001b[?25l\u001b[?25hdone\n"
          ]
        }
      ],
      "source": [
        "import torch\n",
        "import torchvision\n",
        "from torchvision import transforms as T\n",
        "import torch.nn.functional as F\n",
        "%pip install wandb -q\n",
        "import wandb"
      ]
    },
    {
      "cell_type": "markdown",
      "metadata": {
        "id": "TLLNs9dy9pAM"
      },
      "source": [
        "## LeNet-5\n",
        "\n",
        "In order to build this model, we are going to need some **convolutional** and some **fully connected** layers. The former can be easily defined by exploiting the `torch.nn.Conv2D` module from PyTorch. Remember you can always take a look at the [documentation](https://pytorch.org/docs/stable/generated/torch.nn.Conv2d.html)! We will also be using pooling operations (Max Pooling) to reduce the size of the feature maps. In particular, we are going to use the `torch.nn.functional.max_pool2d` module (details can be found, as usual, in the [docs](https://pytorch.org/docs/stable/generated/torch.nn.MaxPool2d.html)). Furthermore, for this model we are going to need the Rectified Linear Unit (ReLU) activation, available in the `torch.nn.functional.relu` module (details [here](https://pytorch.org/docs/stable/generated/torch.nn.functional.relu.html#torch.nn.functional.relu))."
      ]
    },
    {
      "cell_type": "code",
      "execution_count": 22,
      "metadata": {
        "id": "jtyBrLjJxNNm"
      },
      "outputs": [],
      "source": [
        "class LeNet(torch.nn.Module):\n",
        "  def __init__(self):\n",
        "    super(LeNet, self).__init__()\n",
        "\n",
        "    # input channel = 1, output channels = 6, kernel size = 5\n",
        "    # input image size = (28, 28), image output size = (24, 24)\n",
        "    # have a look at torch.nn.Conv2d\n",
        "\n",
        "    self.conv1 = torch.nn.Conv2d(1, 6, 5)\n",
        "    # input channel = 6, output channels = 16, kernel size = 5\n",
        "    # input image size = (12, 12), output image size = (8, 8)\n",
        "    # have a look at torch.nn.Linear\n",
        "    self.conv2 = torch.nn.Conv2d(6, 16, 5)\n",
        "\n",
        "    # input dim = 4 * 4 * 16 ( H x W x C), output dim = 120\n",
        "    self.L1 = torch.nn.Linear(256, 120)\n",
        "\n",
        "    # input dim = 120, output dim = 84\n",
        "    self.L2 = torch.nn.Linear(120,  84)\n",
        "\n",
        "    # input dim = 84, output dim = 10\n",
        "    self.L3 =  torch.nn.Linear(84, 10)\n",
        "\n",
        "  def forward(self, x):\n",
        "\n",
        "    # first convolutional layer + relu\n",
        "    # have a look at torch.nn.functional.relu\n",
        "\n",
        "    out = torch.nn.functional.relu(self.conv1(x))\n",
        "\n",
        "    # Max Pooling with kernel size = 2\n",
        "    # output size = (12, 12)\n",
        "    # have a look at torch.nn.functional.max_pool2d\n",
        "    out = torch.nn.functional.max_pool2d(out, 2)\n",
        "\n",
        "    # second convolutional layer + relu\n",
        "    out = torch.nn.functional.relu(self.conv2(out))\n",
        "\n",
        "    # Max Pooling with kernel size = 2\n",
        "    # output size = (4, 4)\n",
        "    out = torch.nn.functional.max_pool2d(out, 2)\n",
        "\n",
        "    # flatten the feature maps into a long vector (-> (bs, 4*4*16))\n",
        "    #flatten = torch.nn.Flatten(out, 256)\n",
        "    flatten = out.view(out.shape[0], -1)\n",
        "\n",
        "    # first linear layer + relu\n",
        "    out = torch.nn.functional.relu(self.L1(flatten))\n",
        "\n",
        "    # second linear layer + relu\n",
        "    out = torch.nn.functional.relu(self.L2(out))\n",
        "\n",
        "    # output layer (linear)\n",
        "    x = self.L3(out)\n",
        "\n",
        "    return x"
      ]
    },
    {
      "cell_type": "markdown",
      "metadata": {
        "id": "obE13C39_2g1"
      },
      "source": [
        "## Optimizer & cost function\n",
        "We are going to use the familiar [Stochastic Gradient Descent (SGD)](https://pytorch.org/docs/stable/generated/torch.optim.SGD.html) optimizer and the [Cross Entropy Loss](https://pytorch.org/docs/stable/generated/torch.nn.CrossEntropyLoss.html) for our optimization."
      ]
    },
    {
      "cell_type": "code",
      "execution_count": 3,
      "metadata": {
        "id": "JO_my8CC0Uhn"
      },
      "outputs": [],
      "source": [
        "def get_cost_function():\n",
        "  cost_function = torch.nn.CrossEntropyLoss()\n",
        "  return cost_function\n",
        "\n",
        "def get_optimizer(net, lr, wd, momentum):\n",
        "  optimizer = torch.optim.SGD(net.parameters(), lr=lr, weight_decay=wd, momentum=momentum)\n",
        "  return optimizer"
      ]
    },
    {
      "cell_type": "code",
      "source": [
        "net = LeNet()\n",
        "\n",
        "# Настраиваем loss function\n",
        "loss = get_cost_function()\n",
        "\n",
        "# Настраиваем оптимизатор\n",
        "optimizer = get_optimizer(net, lr=0.001, wd=0.0, momentum=0.9)\n"
      ],
      "metadata": {
        "id": "nrhGGhDW1bum"
      },
      "execution_count": 6,
      "outputs": []
    },
    {
      "cell_type": "markdown",
      "metadata": {
        "id": "qV2v8x0ZBG8y"
      },
      "source": [
        "## Training and test steps\n",
        "We are going to implement our training and test pipelines as discussed in the previous lab sessions."
      ]
    },
    {
      "cell_type": "code",
      "execution_count": 36,
      "metadata": {
        "id": "nQmB7Kir8Y56"
      },
      "outputs": [],
      "source": [
        "def training_step(net, data_loader, optimizer, cost_function, device='cuda'):\n",
        "\n",
        "  samples = 0.\n",
        "  cumulative_loss = 0.\n",
        "  cumulative_accuracy = 0.\n",
        "\n",
        "  # set the network to training mode\n",
        "  net.train()\n",
        "\n",
        "  # iterate over the training set\n",
        "  for batch_idx, (inputs, targets) in enumerate(data_loader):\n",
        "\n",
        "    # load data into GPU\n",
        "    inputs = inputs.to(device)\n",
        "    targets = targets.to(device)\n",
        "\n",
        "    # forward pass\n",
        "    outputs = net(inputs)\n",
        "\n",
        "    # loss computation\n",
        "    loss = cost_function(outputs, targets)\n",
        "\n",
        "    # backward pass\n",
        "    loss.backward()\n",
        "\n",
        "    # parameters update\n",
        "    optimizer.step()\n",
        "\n",
        "    # gradients reset\n",
        "    optimizer.zero_grad()\n",
        "\n",
        "\n",
        "\n",
        "    # fetch prediction and loss value\n",
        "    samples += inputs.shape[0]\n",
        "    cumulative_loss += loss.item()\n",
        "    _, predicted = outputs.max(dim=1) # max() returns (maximum_value, index_of_maximum_value)\n",
        "\n",
        "    # compute training accuracy\n",
        "    cumulative_accuracy += predicted.eq(targets).sum().item()\n",
        "\n",
        "  return cumulative_loss/samples, cumulative_accuracy/samples*100\n",
        "\n",
        "\n",
        "def test_step(net, data_loader, cost_function, device='cuda'):\n",
        "\n",
        "  samples = 0.0\n",
        "  cumulative_loss = 0.0\n",
        "  cumulative_accuracy = 0.0\n",
        "\n",
        "  # set the network to evaluation mode\n",
        "  net.eval()\n",
        "\n",
        "  # disable gradient computation (we are only testing, we do not want our model to be modified in this step!)\n",
        "  with torch.no_grad():\n",
        "\n",
        "    # iterate over the test set\n",
        "    for batch_idx, (inputs, targets) in enumerate(data_loader):\n",
        "\n",
        "      # load data into GPU\n",
        "      inputs = inputs.to(device)\n",
        "      targets = targets.to(device)\n",
        "\n",
        "      # forward pass\n",
        "      outputs = net(inputs)\n",
        "\n",
        "      # loss computation\n",
        "      loss = cost_function(outputs, targets)\n",
        "\n",
        "      # fetch prediction and loss value\n",
        "      samples += inputs.shape[0]\n",
        "      cumulative_loss += loss.item() # Note: the .item() is needed to extract scalars from tensors\n",
        "      _, predicted = outputs.max(1)\n",
        "\n",
        "      # compute accuracy\n",
        "      cumulative_accuracy += predicted.eq(targets).sum().item()\n",
        "\n",
        "  avg_loss = cumulative_loss / samples\n",
        "  avg_accuracy = 100 * cumulative_accuracy / samples\n",
        "\n",
        "  return avg_loss, avg_accuracy"
      ]
    },
    {
      "cell_type": "markdown",
      "metadata": {
        "id": "-xaALwsMD2vj"
      },
      "source": [
        "## Data loading\n",
        "In this block we are going to define our **data loading** utility. Differently from last time, in this case we are going to introduce **normalization**. This step is needed in order **bound** our values to the `[-1,1]` range, and obtain a **stable** training process for our network. This can be achieved by using the `torchvision.transforms.Normalize()` module (details [here](https://pytorch.org/vision/main/generated/torchvision.transforms.Normalize.html))."
      ]
    },
    {
      "cell_type": "code",
      "execution_count": 37,
      "metadata": {
        "id": "j1CzNOKhCe3h"
      },
      "outputs": [],
      "source": [
        "def get_data(batch_size, test_batch_size=256):\n",
        "\n",
        "  # prepare data transformations and then combine them sequentially\n",
        "  transform = list()\n",
        "  transform.append(T.ToTensor())                            # convert Numpy to Pytorch Tensor\n",
        "  transform.append(T.Normalize(mean=[0.5], std=[0.5]))      # normalize the Tensors between [-1, 1]\n",
        "  transform = T.Compose(transform)                          # compose the above transformations into one\n",
        "\n",
        "  # load data\n",
        "  full_training_data = torchvision.datasets.MNIST('./data', train=True, transform=transform, download=True)\n",
        "  test_data = torchvision.datasets.MNIST('./data', train=False, transform=transform, download=True)\n",
        "\n",
        "  # create train and validation splits\n",
        "  num_samples = len(full_training_data)\n",
        "  training_samples = int(num_samples*0.5+1)\n",
        "  validation_samples = num_samples - training_samples\n",
        "\n",
        "  training_data, validation_data = torch.utils.data.random_split(full_training_data, [training_samples, validation_samples])\n",
        "\n",
        "  # initialize dataloaders\n",
        "  train_loader = torch.utils.data.DataLoader(training_data, batch_size, shuffle=True, num_workers=4)\n",
        "  val_loader = torch.utils.data.DataLoader(validation_data, test_batch_size, shuffle=False, num_workers=4)\n",
        "  test_loader = torch.utils.data.DataLoader(test_data, test_batch_size, shuffle=False, num_workers=4)\n",
        "\n",
        "  return train_loader, val_loader, test_loader"
      ]
    },
    {
      "cell_type": "markdown",
      "metadata": {
        "id": "APuCISvfCrP6"
      },
      "source": [
        "## Putting it all together!\n",
        "We are now ready to combine all the ingredients defined so far into our **training procedure**. We define a main function that **initializes** everything, **trains** the model over multiple epochs and **logs** the results."
      ]
    },
    {
      "cell_type": "code",
      "execution_count": 38,
      "metadata": {
        "id": "ur0qy-JBChFy"
      },
      "outputs": [],
      "source": [
        "'''\n",
        "Input arguments\n",
        "  batch_size: size of a mini-batch\n",
        "  device: GPU where you want to train your network\n",
        "  weight_decay: weight decay co-efficient for regularization of weights\n",
        "  momentum: momentum for SGD optimizer\n",
        "  epochs: number of epochs for training the network\n",
        "'''\n",
        "\n",
        "def main(batch_size=128,\n",
        "         device='cuda:0',\n",
        "         learning_rate=0.01,\n",
        "         weight_decay=0.000001,\n",
        "         momentum=0.9,\n",
        "         epochs=10):\n",
        "\n",
        "  # get dataloaders\n",
        "  train_loader, val_loader, test_loader = get_data(batch_size)\n",
        "\n",
        "  # instantiate model and send it to cuda device\n",
        "  net = LeNet().to(device)\n",
        "\n",
        "\n",
        "  # instatiate optimizer and cost function\n",
        "  optimizer = torch.optim.SGD(net.parameters(), lr=0.001, momentum=0.9)\n",
        "  cost_function = torch.nn.CrossEntropyLoss()\n",
        "\n",
        "  # wandb logger\n",
        "  wandb.login()\n",
        "  wandb.init(project=\"Lab_02_TrainLeNet\", name=\"Exp1\") # UPDATE USING YOUR WANDB CREDENTIALS\n",
        "\n",
        "  # run a single test step beforehand and print metrics\n",
        "  print('Before training:')\n",
        "  train_loss, train_accuracy = test_step(net, train_loader, cost_function)\n",
        "  val_loss, val_accuracy = test_step(net, val_loader, cost_function)\n",
        "  test_loss, test_accuracy = test_step(net, test_loader, cost_function)\n",
        "\n",
        "  print('\\t Training loss {:.5f}, Training accuracy {:.2f}'.format(train_loss, train_accuracy))\n",
        "  print('\\t Validation loss {:.5f}, Validation accuracy {:.2f}'.format(val_loss, val_accuracy))\n",
        "  print('\\t Test loss {:.5f}, Test accuracy {:.2f}'.format(test_loss, test_accuracy))\n",
        "  print('-----------------------------------------------------')\n",
        "\n",
        "  # iterate over the number of epochs\n",
        "  for e in range(epochs):\n",
        "\n",
        "    # train & log\n",
        "    train_loss, train_accuracy = training_step(net, train_loader, optimizer, cost_function)\n",
        "    val_loss, val_accuracy = test_step(net, val_loader, cost_function)\n",
        "    wandb.log({\n",
        "        \"Epoch\": e+1,\n",
        "        \"training/loss\": train_loss,\n",
        "        \"training/accuracy\": train_accuracy,\n",
        "        \"validation/loss\": val_loss,\n",
        "        \"validation/accuracy\": val_accuracy,\n",
        "    })\n",
        "    print('Epoch: {:d}'.format(e+1))\n",
        "    print('\\t Training loss {:.5f}, Training accuracy {:.2f}'.format(train_loss, train_accuracy))\n",
        "    print('\\t Validation loss {:.5f}, Validation accuracy {:.2f}'.format(val_loss, val_accuracy))\n",
        "    print('-----------------------------------------------------')\n",
        "\n",
        "  # compute and print final metrics\n",
        "  print('After training:')\n",
        "  train_loss, train_accuracy = test_step(net, train_loader, cost_function)\n",
        "  val_loss, val_accuracy = test_step(net, val_loader, cost_function)\n",
        "  test_loss, test_accuracy = test_step(net, test_loader, cost_function)\n",
        "\n",
        "  print('\\t Training loss {:.5f}, Training accuracy {:.2f}'.format(train_loss, train_accuracy))\n",
        "  print('\\t Validation loss {:.5f}, Validation accuracy {:.2f}'.format(val_loss, val_accuracy))\n",
        "  print('\\t Test loss {:.5f}, Test accuracy {:.2f}'.format(test_loss, test_accuracy))\n",
        "  print('-----------------------------------------------------')"
      ]
    },
    {
      "cell_type": "markdown",
      "metadata": {
        "id": "wGxHI0uxFCI0"
      },
      "source": [
        "## Run!"
      ]
    },
    {
      "cell_type": "code",
      "execution_count": 39,
      "metadata": {
        "id": "hWKua57qE79H",
        "colab": {
          "base_uri": "https://localhost:8080/",
          "height": 1000,
          "referenced_widgets": [
            "92a3f5b74ba74c8ea357a91f6ad5b75b",
            "cbf5eea00a194e599b62a53827559d7a",
            "0b2b15fe256e4b1e95c5bf27b1933474",
            "23afc1cb245a4e01a60dbb9da701b8e3",
            "1f280530825c4acb9b6d1c0627681160",
            "1b853feb231f41708959956d57c393e9",
            "79f46662b07b46e4b2d1e0a229b4b9ca",
            "1ee4d3a908ca426bb0363002daf05fb1"
          ]
        },
        "outputId": "fbeab6d0-e161-49a6-806a-87120d69616c"
      },
      "outputs": [
        {
          "output_type": "stream",
          "name": "stderr",
          "text": [
            "\u001b[34m\u001b[1mwandb\u001b[0m: \u001b[33mWARNING\u001b[0m Calling wandb.login() after wandb.init() has no effect.\n"
          ]
        },
        {
          "output_type": "display_data",
          "data": {
            "text/plain": [
              "<IPython.core.display.HTML object>"
            ],
            "text/html": [
              "Finishing last run (ID:38ny24wy) before initializing another..."
            ]
          },
          "metadata": {}
        },
        {
          "output_type": "display_data",
          "data": {
            "text/plain": [
              "<IPython.core.display.HTML object>"
            ],
            "text/html": [
              "Waiting for W&B process to finish... <strong style=\"color:green\">(success).</strong>"
            ]
          },
          "metadata": {}
        },
        {
          "output_type": "display_data",
          "data": {
            "text/plain": [
              "VBox(children=(Label(value='0.001 MB of 0.001 MB uploaded (0.000 MB deduped)\\r'), FloatProgress(value=1.0, max…"
            ],
            "application/vnd.jupyter.widget-view+json": {
              "version_major": 2,
              "version_minor": 0,
              "model_id": "92a3f5b74ba74c8ea357a91f6ad5b75b"
            }
          },
          "metadata": {}
        },
        {
          "output_type": "display_data",
          "data": {
            "text/plain": [
              "<IPython.core.display.HTML object>"
            ],
            "text/html": [
              " View run <strong style=\"color:#cdcd00\">Exp1</strong> at: <a href='https://wandb.ai/trentoteam/Lab_02_TrainLeNet/runs/38ny24wy' target=\"_blank\">https://wandb.ai/trentoteam/Lab_02_TrainLeNet/runs/38ny24wy</a><br/>Synced 5 W&B file(s), 0 media file(s), 0 artifact file(s) and 0 other file(s)"
            ]
          },
          "metadata": {}
        },
        {
          "output_type": "display_data",
          "data": {
            "text/plain": [
              "<IPython.core.display.HTML object>"
            ],
            "text/html": [
              "Find logs at: <code>./wandb/run-20230928_130241-38ny24wy/logs</code>"
            ]
          },
          "metadata": {}
        },
        {
          "output_type": "display_data",
          "data": {
            "text/plain": [
              "<IPython.core.display.HTML object>"
            ],
            "text/html": [
              "Successfully finished last run (ID:38ny24wy). Initializing new run:<br/>"
            ]
          },
          "metadata": {}
        },
        {
          "output_type": "display_data",
          "data": {
            "text/plain": [
              "<IPython.core.display.HTML object>"
            ],
            "text/html": [
              "Tracking run with wandb version 0.15.11"
            ]
          },
          "metadata": {}
        },
        {
          "output_type": "display_data",
          "data": {
            "text/plain": [
              "<IPython.core.display.HTML object>"
            ],
            "text/html": [
              "Run data is saved locally in <code>/content/wandb/run-20230928_130549-ym04opl8</code>"
            ]
          },
          "metadata": {}
        },
        {
          "output_type": "display_data",
          "data": {
            "text/plain": [
              "<IPython.core.display.HTML object>"
            ],
            "text/html": [
              "Syncing run <strong><a href='https://wandb.ai/trentoteam/Lab_02_TrainLeNet/runs/ym04opl8' target=\"_blank\">Exp1</a></strong> to <a href='https://wandb.ai/trentoteam/Lab_02_TrainLeNet' target=\"_blank\">Weights & Biases</a> (<a href='https://wandb.me/run' target=\"_blank\">docs</a>)<br/>"
            ]
          },
          "metadata": {}
        },
        {
          "output_type": "display_data",
          "data": {
            "text/plain": [
              "<IPython.core.display.HTML object>"
            ],
            "text/html": [
              " View project at <a href='https://wandb.ai/trentoteam/Lab_02_TrainLeNet' target=\"_blank\">https://wandb.ai/trentoteam/Lab_02_TrainLeNet</a>"
            ]
          },
          "metadata": {}
        },
        {
          "output_type": "display_data",
          "data": {
            "text/plain": [
              "<IPython.core.display.HTML object>"
            ],
            "text/html": [
              " View run at <a href='https://wandb.ai/trentoteam/Lab_02_TrainLeNet/runs/ym04opl8' target=\"_blank\">https://wandb.ai/trentoteam/Lab_02_TrainLeNet/runs/ym04opl8</a>"
            ]
          },
          "metadata": {}
        },
        {
          "output_type": "stream",
          "name": "stdout",
          "text": [
            "Before training:\n",
            "\t Training loss 0.01806, Training accuracy 9.85\n",
            "\t Validation loss 0.00906, Validation accuracy 9.98\n",
            "\t Test loss 0.00922, Test accuracy 10.09\n",
            "-----------------------------------------------------\n",
            "Epoch: 1\n",
            "\t Training loss 0.01799, Training accuracy 9.85\n",
            "\t Validation loss 0.00899, Validation accuracy 10.02\n",
            "-----------------------------------------------------\n",
            "Epoch: 2\n",
            "\t Training loss 0.01776, Training accuracy 21.17\n",
            "\t Validation loss 0.00879, Validation accuracy 39.79\n",
            "-----------------------------------------------------\n",
            "Epoch: 3\n",
            "\t Training loss 0.01613, Training accuracy 48.51\n",
            "\t Validation loss 0.00632, Validation accuracy 60.16\n",
            "-----------------------------------------------------\n",
            "Epoch: 4\n",
            "\t Training loss 0.00674, Training accuracy 77.74\n",
            "\t Validation loss 0.00196, Validation accuracy 85.22\n",
            "-----------------------------------------------------\n",
            "Epoch: 5\n",
            "\t Training loss 0.00323, Training accuracy 87.76\n",
            "\t Validation loss 0.00139, Validation accuracy 89.36\n",
            "-----------------------------------------------------\n",
            "Epoch: 6\n",
            "\t Training loss 0.00251, Training accuracy 90.39\n",
            "\t Validation loss 0.00114, Validation accuracy 91.38\n",
            "-----------------------------------------------------\n",
            "Epoch: 7\n",
            "\t Training loss 0.00212, Training accuracy 91.90\n",
            "\t Validation loss 0.00099, Validation accuracy 92.40\n",
            "-----------------------------------------------------\n",
            "Epoch: 8\n",
            "\t Training loss 0.00184, Training accuracy 92.86\n",
            "\t Validation loss 0.00087, Validation accuracy 93.41\n",
            "-----------------------------------------------------\n",
            "Epoch: 9\n",
            "\t Training loss 0.00164, Training accuracy 93.79\n",
            "\t Validation loss 0.00078, Validation accuracy 94.04\n",
            "-----------------------------------------------------\n",
            "Epoch: 10\n",
            "\t Training loss 0.00145, Training accuracy 94.41\n",
            "\t Validation loss 0.00075, Validation accuracy 94.26\n",
            "-----------------------------------------------------\n",
            "After training:\n",
            "\t Training loss 0.00145, Training accuracy 94.42\n",
            "\t Validation loss 0.00075, Validation accuracy 94.26\n",
            "\t Test loss 0.00070, Test accuracy 94.25\n",
            "-----------------------------------------------------\n"
          ]
        }
      ],
      "source": [
        "main()"
      ]
    }
  ],
  "metadata": {
    "accelerator": "GPU",
    "colab": {
      "provenance": []
    },
    "kernelspec": {
      "display_name": "Python 3 (ipykernel)",
      "language": "python",
      "name": "python3"
    },
    "language_info": {
      "codemirror_mode": {
        "name": "ipython",
        "version": 3
      },
      "file_extension": ".py",
      "mimetype": "text/x-python",
      "name": "python",
      "nbconvert_exporter": "python",
      "pygments_lexer": "ipython3",
      "version": "3.11.5"
    },
    "widgets": {
      "application/vnd.jupyter.widget-state+json": {
        "92a3f5b74ba74c8ea357a91f6ad5b75b": {
          "model_module": "@jupyter-widgets/controls",
          "model_name": "VBoxModel",
          "model_module_version": "1.5.0",
          "state": {
            "_dom_classes": [],
            "_model_module": "@jupyter-widgets/controls",
            "_model_module_version": "1.5.0",
            "_model_name": "VBoxModel",
            "_view_count": null,
            "_view_module": "@jupyter-widgets/controls",
            "_view_module_version": "1.5.0",
            "_view_name": "VBoxView",
            "box_style": "",
            "children": [
              "IPY_MODEL_cbf5eea00a194e599b62a53827559d7a",
              "IPY_MODEL_0b2b15fe256e4b1e95c5bf27b1933474"
            ],
            "layout": "IPY_MODEL_23afc1cb245a4e01a60dbb9da701b8e3"
          }
        },
        "cbf5eea00a194e599b62a53827559d7a": {
          "model_module": "@jupyter-widgets/controls",
          "model_name": "LabelModel",
          "model_module_version": "1.5.0",
          "state": {
            "_dom_classes": [],
            "_model_module": "@jupyter-widgets/controls",
            "_model_module_version": "1.5.0",
            "_model_name": "LabelModel",
            "_view_count": null,
            "_view_module": "@jupyter-widgets/controls",
            "_view_module_version": "1.5.0",
            "_view_name": "LabelView",
            "description": "",
            "description_tooltip": null,
            "layout": "IPY_MODEL_1f280530825c4acb9b6d1c0627681160",
            "placeholder": "​",
            "style": "IPY_MODEL_1b853feb231f41708959956d57c393e9",
            "value": "0.010 MB of 0.010 MB uploaded (0.000 MB deduped)\r"
          }
        },
        "0b2b15fe256e4b1e95c5bf27b1933474": {
          "model_module": "@jupyter-widgets/controls",
          "model_name": "FloatProgressModel",
          "model_module_version": "1.5.0",
          "state": {
            "_dom_classes": [],
            "_model_module": "@jupyter-widgets/controls",
            "_model_module_version": "1.5.0",
            "_model_name": "FloatProgressModel",
            "_view_count": null,
            "_view_module": "@jupyter-widgets/controls",
            "_view_module_version": "1.5.0",
            "_view_name": "ProgressView",
            "bar_style": "",
            "description": "",
            "description_tooltip": null,
            "layout": "IPY_MODEL_79f46662b07b46e4b2d1e0a229b4b9ca",
            "max": 1,
            "min": 0,
            "orientation": "horizontal",
            "style": "IPY_MODEL_1ee4d3a908ca426bb0363002daf05fb1",
            "value": 1
          }
        },
        "23afc1cb245a4e01a60dbb9da701b8e3": {
          "model_module": "@jupyter-widgets/base",
          "model_name": "LayoutModel",
          "model_module_version": "1.2.0",
          "state": {
            "_model_module": "@jupyter-widgets/base",
            "_model_module_version": "1.2.0",
            "_model_name": "LayoutModel",
            "_view_count": null,
            "_view_module": "@jupyter-widgets/base",
            "_view_module_version": "1.2.0",
            "_view_name": "LayoutView",
            "align_content": null,
            "align_items": null,
            "align_self": null,
            "border": null,
            "bottom": null,
            "display": null,
            "flex": null,
            "flex_flow": null,
            "grid_area": null,
            "grid_auto_columns": null,
            "grid_auto_flow": null,
            "grid_auto_rows": null,
            "grid_column": null,
            "grid_gap": null,
            "grid_row": null,
            "grid_template_areas": null,
            "grid_template_columns": null,
            "grid_template_rows": null,
            "height": null,
            "justify_content": null,
            "justify_items": null,
            "left": null,
            "margin": null,
            "max_height": null,
            "max_width": null,
            "min_height": null,
            "min_width": null,
            "object_fit": null,
            "object_position": null,
            "order": null,
            "overflow": null,
            "overflow_x": null,
            "overflow_y": null,
            "padding": null,
            "right": null,
            "top": null,
            "visibility": null,
            "width": null
          }
        },
        "1f280530825c4acb9b6d1c0627681160": {
          "model_module": "@jupyter-widgets/base",
          "model_name": "LayoutModel",
          "model_module_version": "1.2.0",
          "state": {
            "_model_module": "@jupyter-widgets/base",
            "_model_module_version": "1.2.0",
            "_model_name": "LayoutModel",
            "_view_count": null,
            "_view_module": "@jupyter-widgets/base",
            "_view_module_version": "1.2.0",
            "_view_name": "LayoutView",
            "align_content": null,
            "align_items": null,
            "align_self": null,
            "border": null,
            "bottom": null,
            "display": null,
            "flex": null,
            "flex_flow": null,
            "grid_area": null,
            "grid_auto_columns": null,
            "grid_auto_flow": null,
            "grid_auto_rows": null,
            "grid_column": null,
            "grid_gap": null,
            "grid_row": null,
            "grid_template_areas": null,
            "grid_template_columns": null,
            "grid_template_rows": null,
            "height": null,
            "justify_content": null,
            "justify_items": null,
            "left": null,
            "margin": null,
            "max_height": null,
            "max_width": null,
            "min_height": null,
            "min_width": null,
            "object_fit": null,
            "object_position": null,
            "order": null,
            "overflow": null,
            "overflow_x": null,
            "overflow_y": null,
            "padding": null,
            "right": null,
            "top": null,
            "visibility": null,
            "width": null
          }
        },
        "1b853feb231f41708959956d57c393e9": {
          "model_module": "@jupyter-widgets/controls",
          "model_name": "DescriptionStyleModel",
          "model_module_version": "1.5.0",
          "state": {
            "_model_module": "@jupyter-widgets/controls",
            "_model_module_version": "1.5.0",
            "_model_name": "DescriptionStyleModel",
            "_view_count": null,
            "_view_module": "@jupyter-widgets/base",
            "_view_module_version": "1.2.0",
            "_view_name": "StyleView",
            "description_width": ""
          }
        },
        "79f46662b07b46e4b2d1e0a229b4b9ca": {
          "model_module": "@jupyter-widgets/base",
          "model_name": "LayoutModel",
          "model_module_version": "1.2.0",
          "state": {
            "_model_module": "@jupyter-widgets/base",
            "_model_module_version": "1.2.0",
            "_model_name": "LayoutModel",
            "_view_count": null,
            "_view_module": "@jupyter-widgets/base",
            "_view_module_version": "1.2.0",
            "_view_name": "LayoutView",
            "align_content": null,
            "align_items": null,
            "align_self": null,
            "border": null,
            "bottom": null,
            "display": null,
            "flex": null,
            "flex_flow": null,
            "grid_area": null,
            "grid_auto_columns": null,
            "grid_auto_flow": null,
            "grid_auto_rows": null,
            "grid_column": null,
            "grid_gap": null,
            "grid_row": null,
            "grid_template_areas": null,
            "grid_template_columns": null,
            "grid_template_rows": null,
            "height": null,
            "justify_content": null,
            "justify_items": null,
            "left": null,
            "margin": null,
            "max_height": null,
            "max_width": null,
            "min_height": null,
            "min_width": null,
            "object_fit": null,
            "object_position": null,
            "order": null,
            "overflow": null,
            "overflow_x": null,
            "overflow_y": null,
            "padding": null,
            "right": null,
            "top": null,
            "visibility": null,
            "width": null
          }
        },
        "1ee4d3a908ca426bb0363002daf05fb1": {
          "model_module": "@jupyter-widgets/controls",
          "model_name": "ProgressStyleModel",
          "model_module_version": "1.5.0",
          "state": {
            "_model_module": "@jupyter-widgets/controls",
            "_model_module_version": "1.5.0",
            "_model_name": "ProgressStyleModel",
            "_view_count": null,
            "_view_module": "@jupyter-widgets/base",
            "_view_module_version": "1.2.0",
            "_view_name": "StyleView",
            "bar_color": null,
            "description_width": ""
          }
        }
      }
    }
  },
  "nbformat": 4,
  "nbformat_minor": 0
}